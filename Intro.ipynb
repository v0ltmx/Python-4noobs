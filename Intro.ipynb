{
 "cells": [
  {
   "cell_type": "markdown",
   "metadata": {},
   "source": [
    "##### Observações \n",
    "\n",
    "- Letras maiúsculas e minúsculas são diferentes ,  exemplo:   lucas != LUCAS .\n",
    "- Aspas e parênteses são importantes (sempre que abrir, feche).\n",
    "- Os espaços são importantes [A identação do código serve para marcar o começo e fim das estruturas].\n",
    "\n",
    "- Nome de variável não se inicia com número\n",
    "- Não é possível utilizar símbos em variáveis\n"
   ]
  },
  {
   "cell_type": "markdown",
   "metadata": {},
   "source": [
    "##### Exemplos de realizar comentários no código"
   ]
  },
  {
   "cell_type": "code",
   "execution_count": null,
   "metadata": {},
   "outputs": [],
   "source": [
    "#Olá, meu nome é Lucas Gabriel, moro em Natal RN.\n",
    "\n",
    "'''\n",
    "Olá, meu nome é Lucas Gabriel,\n",
    "moro em Natal RN.\n",
    "'''"
   ]
  },
  {
   "cell_type": "markdown",
   "metadata": {},
   "source": [
    "##### Comando para saída de texto na tela"
   ]
  },
  {
   "cell_type": "code",
   "execution_count": null,
   "metadata": {},
   "outputs": [],
   "source": [
    "print('Olá mundo!')\n",
    "print(\"Olá mundo!\")\n",
    "#Pode-se utilizar aspas simples ou duplas\n",
    "'''\n",
    "Aspas simples é mais utilizada para marcar o conteúdo textual\n",
    "Aspas duplas é mais utilizada para a marcação\n",
    "'''\n",
    "print(\"dólar 'X' \")"
   ]
  },
  {
   "cell_type": "markdown",
   "metadata": {},
   "source": [
    "##### Tipos de dados\n",
    "- Bool\n",
    "- Números\n",
    "- Strings\n",
    "- Listas\n",
    "- Tuplas\n",
    "- Dicionários\n",
    "- Sets"
   ]
  },
  {
   "cell_type": "code",
   "execution_count": null,
   "metadata": {},
   "outputs": [],
   "source": [
    "#Números, exemplo:\n",
    "1,2,3,-6,100  #Inteiros\n",
    "10.5,-0.6, 3e3, 3E3 #Número Ponto-flutuante"
   ]
  },
  {
   "cell_type": "markdown",
   "metadata": {},
   "source": [
    "##### Entrada dos dados"
   ]
  },
  {
   "cell_type": "code",
   "execution_count": null,
   "metadata": {},
   "outputs": [],
   "source": [
    "#exemplo\n",
    "linguagem = input('Qual linguagem de programação você gostaria de aprender?')\n",
    "print(f'Linguagem:{linguagem}')"
   ]
  },
  {
   "cell_type": "markdown",
   "metadata": {},
   "source": [
    "##### Operações simples"
   ]
  },
  {
   "cell_type": "code",
   "execution_count": null,
   "metadata": {},
   "outputs": [],
   "source": [
    "x = 99\n",
    "y = 99\n",
    "z =  x/y\n",
    "print(z)\n",
    "\n",
    "w = x**y #exemplo de exponenciação\n",
    "print(w)\n",
    "\n",
    "i = x % 2  #exemplo de resto de divisão\n",
    "print(i)\n",
    "\n",
    "j = x // 2  #exemplo de parte inteira da divisão\n",
    "print(j)\n",
    "\n",
    "round(1.57384343443) # exemplo de arredondamento\n",
    "round(1.57384343443, 2) #como limitar a quantidade de casas decimais "
   ]
  },
  {
   "cell_type": "markdown",
   "metadata": {},
   "source": [
    "##### Strings"
   ]
  },
  {
   "cell_type": "code",
   "execution_count": null,
   "metadata": {},
   "outputs": [],
   "source": [
    "nome = 'Lucas Gabriel'\n",
    "profissao = 'programador'\n",
    "stream = 'www.twitch.tv/v0ltmx'\n",
    "elo = 'Mestre'\n",
    "\n",
    "#Concatenar strings\n",
    "\n",
    "profissao = 'P' + profissao[1:]\n",
    "print(profissao)\n",
    "\n",
    "'   exemplo de espaço     '.strip() #utiliza-se 'strip()' para remover os espaços em branco no começo e fim das strings"
   ]
  },
  {
   "cell_type": "markdown",
   "metadata": {},
   "source": [
    "##### Boolean"
   ]
  },
  {
   "cell_type": "code",
   "execution_count": null,
   "metadata": {},
   "outputs": [],
   "source": [
    "positivo = True\n",
    "negativo = False\n",
    "type(positivo)\n",
    "\n",
    "print(not positivo)\n",
    "OBS: Qualquer valor que NÃO seja False, 0, NaN ou strings vazias, vai retornar True quando testado com uma instrução condicional"
   ]
  },
  {
   "cell_type": "code",
   "execution_count": null,
   "metadata": {},
   "outputs": [],
   "source": [
    "porta = 1\n",
    "\n",
    "if porta:\n",
    "    print('true')\n",
    "else:\n",
    "    print('false')"
   ]
  },
  {
   "cell_type": "code",
   "execution_count": null,
   "metadata": {},
   "outputs": [],
   "source": [
    "porta = '     '\n",
    "\n",
    "if not porta.strip():\n",
    "    print('sem nada')\n",
    "else:\n",
    "    print('preenchido')"
   ]
  },
  {
   "cell_type": "markdown",
   "metadata": {},
   "source": [
    "##### Listas\n",
    "\n",
    "\"As listas são sequências de valores quaisquer colocados entre colchetes e separados por vírgula. As li stas podem ser pensadas na versão mais geral de uma sequência em Python. Ao contrário das strings, elas são mutáveis, o que significa que os elementos dentro de uma lista podem ser alterados por indexação\"."
   ]
  },
  {
   "cell_type": "code",
   "execution_count": null,
   "metadata": {},
   "outputs": [],
   "source": [
    "lista_de_profissoes = ['Programador', 'Streamer']\n",
    "type(lista_de_profissoes)\n",
    "len(lista_de_profissoes)\n",
    "print(lista_de_profissoes[0]) #imprimindo o primeiro elemento da lista\n",
    "print(lista_de_profissoes[-1]) #imprimindo o último elemento \n",
    "\n",
    "lista_de_profissoes[3] = 'Atleta'\n",
    "print(lista_de_profissoes) "
   ]
  },
  {
   "cell_type": "markdown",
   "metadata": {},
   "source": [
    "##### Alguns métodos ~ Listas\n",
    "doc: https://docs.python.org/3.7/tutorial/datastructures.html#more-on-lists\n",
    "\n"
   ]
  }
 ],
 "metadata": {
  "interpreter": {
   "hash": "fd578b525fe7fcca8a3ea11350d18bcbeb29af20bd1df15f6c5fd2c9cf111483"
  },
  "kernelspec": {
   "display_name": "Python 3.9.6 64-bit",
   "language": "python",
   "name": "python3"
  },
  "language_info": {
   "name": "python",
   "version": "3.9.6"
  },
  "orig_nbformat": 4
 },
 "nbformat": 4,
 "nbformat_minor": 2
}
