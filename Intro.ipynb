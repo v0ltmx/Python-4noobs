{
 "cells": [
  {
   "cell_type": "markdown",
   "metadata": {},
   "source": [
    "##### Observações \n",
    "\n",
    "- Letras maiúsculas e minúsculas são diferentes ,  exemplo:   lucas != LUCAS .\n",
    "- Aspas e parênteses são importantes (sempre que abrir, feche).\n",
    "- Os espaços são importantes [A identação do código serve para marcar o começo e fim das estruturas].\n",
    "\n",
    "- Nome de variável não se inicia com número\n",
    "- Não é possível utilizar símbos em variáveis\n"
   ]
  },
  {
   "cell_type": "markdown",
   "metadata": {},
   "source": [
    "##### Exemplos de realizar comentários no código"
   ]
  },
  {
   "cell_type": "code",
   "execution_count": null,
   "metadata": {},
   "outputs": [],
   "source": [
    "#Olá, meu nome é Lucas Gabriel, moro em Natal RN.\n",
    "\n",
    "'''\n",
    "Olá, meu nome é Lucas Gabriel,\n",
    "moro em Natal RN.\n",
    "'''"
   ]
  },
  {
   "cell_type": "markdown",
   "metadata": {},
   "source": [
    "##### Comando para saída de texto na tela"
   ]
  },
  {
   "cell_type": "code",
   "execution_count": null,
   "metadata": {},
   "outputs": [],
   "source": [
    "print('Olá mundo!')\n",
    "print(\"Olá mundo!\")\n",
    "#Pode-se utilizar aspas simples ou duplas\n",
    "'''\n",
    "Aspas simples é mais utilizada para marcar o conteúdo textual\n",
    "Aspas duplas é mais utilizada para a marcação\n",
    "'''\n",
    "print(\"dólar 'X' \")"
   ]
  },
  {
   "cell_type": "markdown",
   "metadata": {},
   "source": [
    "##### Tipos de dados\n",
    "- Bool\n",
    "- Números\n",
    "- Strings\n",
    "- Listas\n",
    "- Tuplas\n",
    "- Dicionários\n",
    "- Sets"
   ]
  },
  {
   "cell_type": "code",
   "execution_count": null,
   "metadata": {},
   "outputs": [],
   "source": [
    "#Números, exemplo:\n",
    "1,2,3,-6,100  #Inteiros\n",
    "10.5,-0.6, 3e3, 3E3 #Número Ponto-flutuante"
   ]
  },
  {
   "cell_type": "markdown",
   "metadata": {},
   "source": [
    "##### Entrada dos dados"
   ]
  },
  {
   "cell_type": "code",
   "execution_count": null,
   "metadata": {},
   "outputs": [],
   "source": [
    "#exemplo\n",
    "linguagem = input('Qual linguagem de programação você gostaria de aprender?')\n",
    "print(f'Linguagem:{linguagem}')"
   ]
  }
 ],
 "metadata": {
  "interpreter": {
   "hash": "fd578b525fe7fcca8a3ea11350d18bcbeb29af20bd1df15f6c5fd2c9cf111483"
  },
  "kernelspec": {
   "display_name": "Python 3.9.6 64-bit",
   "language": "python",
   "name": "python3"
  },
  "language_info": {
   "name": "python",
   "version": "3.9.6"
  },
  "orig_nbformat": 4
 },
 "nbformat": 4,
 "nbformat_minor": 2
}
